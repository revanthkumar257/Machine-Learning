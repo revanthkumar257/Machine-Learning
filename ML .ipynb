{
 "cells": [
  {
   "cell_type": "code",
   "execution_count": 2,
   "id": "7392bc61",
   "metadata": {},
   "outputs": [],
   "source": [
    "import numpy as np\n",
    "import matplotlib.pyplot as plt\n",
    "\n"
   ]
  },
  {
   "cell_type": "code",
   "execution_count": 4,
   "id": "dafb0bd8",
   "metadata": {},
   "outputs": [
    {
     "name": "stdout",
     "output_type": "stream",
     "text": [
      "x_train = [1. 2.]\n"
     ]
    },
    {
     "data": {
      "text/plain": [
       "'y_train = [300 500]'"
      ]
     },
     "execution_count": 4,
     "metadata": {},
     "output_type": "execute_result"
    }
   ],
   "source": [
    "x_train = np.array([1.0,2.0])\n",
    "y_train = np.array([300,500])\n",
    "print(f\"x_train = {x_train}\")\n",
    "print(f\"y_train = {y_train}\")\n"
   ]
  },
  {
   "cell_type": "code",
   "execution_count": 2,
   "id": "68c0c059",
   "metadata": {},
   "outputs": [
    {
     "name": "stdout",
     "output_type": "stream",
     "text": [
      "{'name': 'john', 'age': 21, 'courses': ['math', 'computer']}\n"
     ]
    }
   ],
   "source": [
    "stu = {\n",
    "    \"name\": \"john\",\"age\":21,\"courses\":[\"math\",\"computer\"]\n",
    "}\n",
    "print(stu)"
   ]
  },
  {
   "cell_type": "code",
   "execution_count": 5,
   "id": "e4d0db94",
   "metadata": {},
   "outputs": [
    {
     "name": "stdout",
     "output_type": "stream",
     "text": [
      "name: john\n",
      "{'name': 'john', 'age': 21, 'courses': ['math', 'computer'], 'grade': 'a'}\n"
     ]
    }
   ],
   "source": [
    "name = stu[\"name\"]\n",
    "print(\"name:\",name)\n",
    "stu[\"grade\"] = \"a\"\n",
    "print(stu)"
   ]
  },
  {
   "cell_type": "code",
   "execution_count": null,
   "id": "577221fd",
   "metadata": {},
   "outputs": [],
   "source": []
  }
 ],
 "metadata": {
  "kernelspec": {
   "display_name": "Python 3 (ipykernel)",
   "language": "python",
   "name": "python3"
  },
  "language_info": {
   "codemirror_mode": {
    "name": "ipython",
    "version": 3
   },
   "file_extension": ".py",
   "mimetype": "text/x-python",
   "name": "python",
   "nbconvert_exporter": "python",
   "pygments_lexer": "ipython3",
   "version": "3.9.12"
  }
 },
 "nbformat": 4,
 "nbformat_minor": 5
}
